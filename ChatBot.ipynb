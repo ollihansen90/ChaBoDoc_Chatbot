{
  "nbformat": 4,
  "nbformat_minor": 0,
  "metadata": {
    "colab": {
      "name": "ChatBot.ipynb",
      "provenance": [],
      "collapsed_sections": [],
      "authorship_tag": "ABX9TyMgQ0ZVI5WjyatBp+tiOZ7X",
      "include_colab_link": true
    },
    "kernelspec": {
      "name": "python3",
      "display_name": "Python 3"
    },
    "language_info": {
      "name": "python"
    },
    "accelerator": "GPU"
  },
  "cells": [
    {
      "cell_type": "markdown",
      "metadata": {
        "id": "view-in-github",
        "colab_type": "text"
      },
      "source": [
        "<a href=\"https://colab.research.google.com/github/ollihansen90/ChaBoDoc_Chatbot/blob/main/ChatBot.ipynb\" target=\"_parent\"><img src=\"https://colab.research.google.com/assets/colab-badge.svg\" alt=\"Open In Colab\"/></a>"
      ]
    },
    {
      "cell_type": "markdown",
      "source": [
        "#ChaBoDoc-Chatbot"
      ],
      "metadata": {
        "id": "hvTTO5PJJwjo"
      }
    },
    {
      "cell_type": "markdown",
      "source": [
        "## Importiere Zeugs"
      ],
      "metadata": {
        "id": "QDRIssp2JppM"
      }
    },
    {
      "cell_type": "code",
      "execution_count": 24,
      "metadata": {
        "colab": {
          "base_uri": "https://localhost:8080/"
        },
        "id": "3S3zcGKtA2m_",
        "outputId": "38e3c3b2-7fa6-41cf-bd38-92cfd420a4fc"
      },
      "outputs": [
        {
          "output_type": "stream",
          "name": "stdout",
          "text": [
            "[nltk_data] Downloading package punkt to /root/nltk_data...\n",
            "[nltk_data]   Package punkt is already up-to-date!\n",
            "['hallo', ',', 'mein', 'nam', 'ist', 'oll']\n",
            "tensor([1., 1.])\n",
            "cuda\n"
          ]
        }
      ],
      "source": [
        "import sys, os\n",
        "if \"google.cola\" in sys.modules:\n",
        "    if os.getcwd() == \"/content\":\n",
        "        !git clone \"\"\n",
        "\n",
        "import torch\n",
        "import torch.nn as nn\n",
        "import torch.nn.functional as F\n",
        "\n",
        "import numpy as np\n",
        "import matplotlib.pyplot as plt\n",
        "\n",
        "import nltk\n",
        "from nltk.stem.lancaster import LancasterStemmer\n",
        "nltk.download('punkt')\n",
        "\n",
        "STEMMER = LancasterStemmer()\n",
        "\n",
        "def bagofwords(s, words):\n",
        "    bag = [0 for _ in range((len(words)))]\n",
        "    s_words = nltk.word_tokenize(s)\n",
        "    s_words = [STEMMER.stem(word.lower()) for word in s_words]\n",
        "    print(s_words)\n",
        "\n",
        "    for se in s_words:\n",
        "        for i, w in enumerate(words):\n",
        "            if w==se:\n",
        "                bag[i] = 1\n",
        "        \n",
        "    return torch.tensor(bag).float()\n",
        "\n",
        "print(bagofwords(\"Hallo, mein Name ist Olli\", [\"hallo\", \"oll\"][::-1]))\n",
        "\n",
        "device = \"cuda\" if torch.cuda.is_available() else \"cpu\"\n",
        "print(device)"
      ]
    },
    {
      "cell_type": "markdown",
      "source": [
        "## Datenverarbeitung und Vorbereitung"
      ],
      "metadata": {
        "id": "0bVVS8FmJlNg"
      }
    },
    {
      "cell_type": "code",
      "source": [
        "import json\n",
        "from stopwords import worte\n",
        "\n",
        "with open(\"intents.json\") as file:\n",
        "    data = json.load(file)\n",
        "\n",
        "words = []\n",
        "labels = []\n",
        "docs_x = []\n",
        "docs_y = []\n",
        "\n",
        "for intent in data[\"intents\"]:\n",
        "    for pattern in intent[\"patterns\"]:\n",
        "        wrds = nltk.word_tokenize(pattern)\n",
        "        words.extend(wrds)\n",
        "        docs_x.append(wrds)\n",
        "        docs_y.append(intent[\"tag\"])\n",
        "    \n",
        "    if intent[\"tag\"] not in labels:\n",
        "        labels.append(intent[\"tag\"])\n",
        "\n",
        "print(words)\n",
        "print(labels)\n",
        "print(docs_x)\n",
        "print(docs_y)\n",
        "\n",
        "words = [w for w in words if not w in worte]\n",
        "words = [STEMMER.stem(w.lower()) for w in words if w != \"?\"]\n",
        "words = sorted(list(set(words)))\n",
        "labels = sorted(labels)\n",
        "\n",
        "training = []\n",
        "output = []\n",
        "\n",
        "out_empty = [0 for _ in range(len(labels))]\n",
        "\n",
        "for x, doc in enumerate(docs_x):\n",
        "    bag = []\n",
        "\n",
        "    wrds = [STEMMER.stem(w.lower()) for w in doc]\n",
        "\n",
        "    for w in words:\n",
        "        if w in wrds:\n",
        "            bag.append(1)\n",
        "        else:\n",
        "            bag.append(0)\n",
        "\n",
        "    output_row = out_empty[:]\n",
        "    output_row[labels.index(docs_y[x])] = 1\n",
        "    training.append(bag)\n",
        "    output.append(output_row)\n",
        "\n",
        "training = torch.tensor(training).float().to(device)\n",
        "output = torch.tensor(output).float().to(device)"
      ],
      "metadata": {
        "colab": {
          "base_uri": "https://localhost:8080/"
        },
        "id": "qWObq_dV5_dm",
        "outputId": "890c71bc-4dcd-4c8b-e66f-34e7ddf9a27d"
      },
      "execution_count": 10,
      "outputs": [
        {
          "output_type": "stream",
          "name": "stdout",
          "text": [
            "['im', 'Garten', 'arbeiten', 'Internet', 'soziale', 'Netzwerke', 'social', 'media', 'Shoppen', 'Fernsehen', 'Rätsel', 'lösen', 'Bücher', 'lesen', 'lesen', 'Computerspiele', 'spielen', 'PC', 'spielen', 'Musik', 'machen', 'ein', 'Instrument', 'spielen', 'essen', 'gehen', 'Handwerken', 'Heimwerken', 'Fitnessstudio', 'Kraftsport', 'Filme', 'gucken', 'DVDs', 'gucken', 'Kino', 'wandern', 'joggen', 'laufen', 'gesellschaftsspiele', 'spiele', 'spielen', 'basteln', 'töpfern', 'disco', 'Club', 'Tanzen', 'Schwimmen', 'Sport', 'Kochen', 'Stricken', 'Thermalbäder', 'Walking', 'Mountainbike', 'Fußball', 'Yoga', 'Rennrad', 'Camping', 'Tennis', 'Freizeitparks', 'Fotos', 'Videos', 'Reiten', 'Roller', 'Inlineskating', 'Ski', 'Angeln', 'Leichtathletik', 'Basketball', 'Bergsteigen', 'Flöte', 'Klavier', 'Trompete', 'Hi', 'Wie', 'geht', 'es', 'Dir', '?', 'Jemand', 'da', '?', 'Moin', 'Tach', 'Guten', 'morgen', 'Guten', 'abend', 'Guten', 'Tag', 'Hallo', 'Hello', 'Ola', 'Wie', 'geht', 'es', 'Gruß', 'in', 'die', 'Runde', 'Gute', 'Nacht', 'Guten', 'Morgen', 'Guten', 'Abend', 'Grüß', 'Gott', 'Grüezi', 'Grüeziwohl', 'Ich', 'grüße', 'Dich', 'Ich', 'grüße', 'Sie', 'Seien', 'Sie', 'gegrüßt', 'Hallo', 'in', 'die', 'Runde', 'hallihallo', 'hallotschi', 'hallöle', 'hei', 'hey', 'heyho', 'hiyo', 'howdie', 'huhu', 'Mahlzeit', 'moin', 'morjen', 'na', 'na', 'du', 'servus', 'tach', 'tachchen', 'salut', 'schalom', 'schalömchen', 'sei', 'gegrüßt', 'Glück', 'auf', 'Glückauf', 'griass', 'di', 'griass', 'god', 'Tach', 'auch', 'Tach', 'zusamm', 'ahoi', 'berg', 'heil', 'gott', 'zum', 'gruße', 'aloha', 'CU', 'Bis', 'später', 'Bis', 'bald', 'ciao', 'Auf', 'wiedersehen', 'Ich', 'bin', 'dann', 'mal', 'weg', 'Tschüss', 'Tschüssikowski', 'Einen', 'schönen', 'Tag', 'noch', '!', 'Man', 'sieht', 'sich', '!', 'Au', 'revoir', 'Goodbye', 'ciao', 'ciao', 'bella', '!', 'grüß', 'Gott', 'Gruß', 'freundliche', 'Grüße', 'liebe', 'grüße', 'adele', 'adios', 'arrivederci', 'baba', 'babatshi', 'bis', 'dann', 'bis', 'demnächst', 'bis', 'demnächst', 'in', 'diesem', 'theater', 'bis', 'denn', 'bis', 'die', 'tage', 'bis', 'später', 'bis', 'zum', 'nächsten', 'Mal', 'belib', 'sauber', 'bussi', 'bye', 'bye', 'bye', 'bye-bye', 'Grüßli', 'Grüßchen', 'See', 'you', 'later', ',', 'alligator', 'guten', 'Tag', '!', 'halt', 'dich', 'halt', 'dich', 'senkrecht', 'hasta', 'la', 'vista', 'halt', 'die', 'Ohren', 'steif', 'hau', 'rein', 'ich', 'wünsch', 'dir', 'was', 'komm', 'nicht', 'unter', 'die', 'räder', 'lass', 'dich', 'nicht', 'hängen', 'lass', 'von', 'dir', 'hören', 'war', 'nett', 'mit', 'dir', ',', 'danke', 'lass', 'die', 'haare', 'wehen', 'leb', 'wohl', 'lebe', 'wohl', 'machs', 'gut', 'mach', \"'s\", 'gut', 'machs', 'besser', 'mach', \"'s\", 'besser', 'machs', 'hübsch', 'man', 'schreibt', 'sich', 'man', 'hört', 'sich', 'man', 'spricht', 'sich', 'meld', 'dich', 'mal', 'sayonara', 'schönen', 'abend', 'noch', 'schönen', 'tag', 'noch', 'so', 'long', 'CU', 'see', 'you', 'see', 'you', 'later', 'tschau', 'mit', 'AU', 'tschüss', 'tschüss', 'mit', 'ü', 'tschüsschen', 'tschaui', 'tschö', 'mit', 'ö', 'tüdelü', 'und', 'dass', 'mir', 'keine', 'Klagen', 'kommen', 'wir', 'sehen', 'uns', 'wir', 'sehen', 'uns', 'noch', 'wir', 'sehen', 'uns', 'später', 'ade', 'adieu', 'denn', 'mach', \"'s\", 'ma', 'jut', 'erstmal', 'habedere', 'gehab', 'dich', 'wohl', 'gehaben', 'sie', 'sich', 'wohl', 'gude', 'grüßle', 'mach', \"'s\", 'hübsch', 'tschökes', 'tüskes', 'winke', 'winke', 'winke', 'Wie', 'alt', 'bist', 'Du', 'Wie', 'alt', 'ist', 'Melinda', 'Was', 'ist', 'dein', 'Alter', 'Wie', 'heißt', 'Du', 'Wie', 'soll', 'ich', 'Dich', 'nennen', 'Was', 'ist', 'Dein', 'Name', 'Sag', 'mir', ',', 'wie', 'Du', 'heißt', 'Wie', 'ist', 'dein', 'Name', 'Und', 'wie', 'heißt', 'du', 'Ich', 'habe', 'da', 'eine', 'Frage', 'Ich', 'verstehe', 'etwas', 'nicht', 'Ich', 'komme', 'da', 'einfach', 'nicht', 'weiter', 'Ich', 'bin', 'ratlos', 'Kannst', 'du', 'mir', 'helfen', '?', 'Wann', 'bist', 'Du', 'online', 'Wann', 'kann', 'ich', 'mit', 'Dir', 'reden', 'Online-Zeiten', 'Ich', 'bin', 'müde', 'Ich', 'habe', 'schlecht', 'geschlafen', 'Ich', 'gehe', 'gleich', 'ins', 'Bett', 'Bin', 'kaputt', 'Gehe', 'gleich', 'schlafen', 'müde', 'schläfrig', 'Schlaf', 'bin', 'müde', 'will', 'schlafen', 'Ich', 'mache', 'gerade', 'Uni', 'Bin', 'in', 'der', 'Uni', 'Habe', 'gerade', 'Uni', 'gemacht', 'Ich', 'bin', 'bei', 'einem', 'Uni', 'Freund', 'Ich', 'lerne', 'für', 'die', 'Uni', 'Ich', 'mache', 'Uni', 'Bin', 'in', 'der', 'Uni', 'Uni', 'die', 'Uni', 'Ich', 'schreibe', 'gerade', 'meinen', 'Praktikums', 'Bericht', 'Ich', 'komme', 'gerade', 'vom', 'Praktikum', 'Praktikum', 'Ich', 'mache', 'das', 'Medizinpraktikum', 'Der', 'Praktikumsbericht', 'ist', 'aufwendig', 'Ich', 'bin', 'beim', 'Praktikum', 'Bin', 'beim', 'Praktikum', 'okay', 'normal', 'neutral', 'naja', 'in', 'Ordnung', 'ganz', 'okay', 'so', 'lala', 'ok', 'Mir', 'geht', 'es', 'schlecht', 'Mir', 'ist', 'langweilig', 'Ich', 'mag', 'chatten', 'nicht', 'Warum', 'rede', 'ich', 'mit', 'Dir', 'Ich', 'will', 'nicht', 'Du', 'bist', 'doof', 'Ich', 'mag', 'Dich', 'nicht', 'Das', 'ist', 'doch', 'alles', 'sinnlos', 'Alles', 'ist', 'doof', 'Mir', 'geht', 'es', 'nicht', 'gut', 'Mir', 'geht', \"'s\", 'schlecht', 'Ich', 'fühle', 'mich', 'schlecht', 'Ich', 'mache', 'mir', 'Sorgen', 'sehr', 'schlecht', 'mir', 'liegt', 'was', 'auf', 'dem', 'Herzen', 'alles', 'blöd', ':', '(', ':', '-', '(', ':', \"'\", '(', 'ich', 'habe', 'mich', 'alleingelassen', 'gefühlt', 'Gefahr', 'Schuld', 'unnötig', 'schädlich', 'schwach', 'schämen', 'unfair', 'Nachteil', 'Verdacht', 'Feind', 'brechen', 'schuldig', 'ungerecht', 'behindern', 'schlecht', 'bedenklich', 'verurteilen', 'ungünstig', 'falsch', 'primitiv', 'betrügen', 'verwerflich', 'unwürdig', 'gemein', 'Risiko', 'Krankheit', 'Fehler', 'Streit', 'gering', 'Kritiker', 'schlimmer', 'ablehnen', 'lächerlich', 'ungeeignet', 'gefährlich', 'unverständlich', 'sinnlos', 'Unzufriedenheit', 'Sturz', 'verbieten', 'kontraproduktiv', 'unsicher', 'wertlos', 'Vorurteil', 'Ausgrenzung', 'grausam', 'schlicht', 'unmoralisch', 'täuschen', 'unbedeutend', 'minderwertig', 'unzuverlässig', 'Faulheit', 'ungeschickt', 'verdammen', 'beleidigen', 'unnütz', 'bedeutungslos', 'gnadenlos', 'Groll', 'untauglich', 'inkompetent', 'dumm', 'abstoßend', 'Kampf', 'fehlen', 'Krieg', 'Gewalt', 'Kritik', 'Schaden', 'vermeiden', 'unzureichend', 'Verlust', 'töten', 'verletzt', 'überflüssig', 'Angst', 'zerstören', 'übersehen', 'Ablehnung', 'Vorwurf', 'Unrecht', 'belasten', 'Trennung', 'veraltet', 'Leid', 'Hölle', 'Schwäche', 'trennen', 'Verletzung', 'zerstört', 'Katastrophe', 'unklar', 'Hass', 'Furcht', 'gefährden', 'Unglück', 'Lüge', 'beeinträchtigen', 'zwingen', 'Nein', ',', 'ich', 'lerne', 'meistens', 'alleine', 'nein', 'eher', 'nein', 'er', 'läuft', 'schlecht', 'heute', 'ist', 'nicht', 'mein', 'Tag', 'ich', 'wünschte', 'der', 'Tag', 'wäre', 'schon', 'vorbei', 'Ich', 'bin', 'froh', ',', 'wenn', 'der', 'Tag', 'rum', 'ist', 'es', 'war', 'schlimm', 'furchtbar', 'nicht', 'so', 'toll', 'Ne', 'ich', 'kann', 'damit', 'nichts', 'anfangen', 'Nö', 'Super', 'Tag', 'heute', 'Mir', 'geht', 'es', 'prima', 'Ich', 'liebe', 'ChatBots', 'Mir', 'geht', 'es', 'gut', 'Ja', ',', 'ich', 'lerne', 'mit', 'anderen', 'zusammen', 'Juhuu', 'Haha', 'Jipieeh', 'Ich', 'bin', 'glücklich', 'Alles', 'super', 'sehr', 'gut', 'Ich', 'bin', 'glücklich', 'gut', 'alles', 'gut', 'Ich', 'freue', 'mich', 'gelungen', 'perfekt', 'Lob', 'wunderbar', 'spannend', 'wunderschön', 'romantisch', 'zuvorkommend', 'Freude', 'Mut', 'freundlich', 'hervorragend', 'kreativ', 'gelohnt', 'abwechslungsreich', 'prima', 'traumhaft', 'phantastisch', 'euphorisch', 'gigantisch', 'besonders', 'stolz', 'toll', 'Ruhe', 'super', 'genießen', 'feiern', 'angenehm', 'herrlich', 'Geschenk', 'fein', 'professionell', 'liebevoll', 'bewährt', 'beherrscht', 'hübsch', 'großartig', 'klettern', 'riesig', 'sympathisch', 'bemerkenswert', 'überzeugend', 'witzig', 'gerührt', 'loben', 'begeistern', 'Gratulation', 'exzellent', 'zufrieden', 'wichtig', 'ruhig', 'warm', 'fertig', 'sicher', 'helfen', 'gut', 'unglaublich', 'miteinander', 'groß', 'fit', 'gemütlich', 'reichlich', 'süß', 'verdient', 'wachsen', 'weich', 'fleißig', 'verwöhnen', 'wertvoll', 'heiß', 'satt', 'sauber', 'motiviert', 'klug', 'treu', 'Vertrauen', 'bunt', 'gepflegt', 'harmonisch', 'klasse', 'sexy', 'mögen', 'Erfolg', 'vernünftig', 'mutig', 'heil', 'schlau', 'joa', 'beeindruckend', 'gefeiert', 'lächeln', 'Stil', 'glänzen', 'überzeugen', 'außergewöhnlich', 'flott', 'gönnen', 'ansprechend', 'sanft', 'hilfsbereit', 'schick', 'ja', ':', '-', ')', ':', ')', ':', 'D', ';', ')', ';', '-', ')', 'es', 'war', 'gut', 'er', 'läuft', 'gut', 'es', 'ist', 'alles', 'super', 'es', 'ist', 'ein', 'guter', 'Tag', 'Ich', 'genieße', 'den', 'Tag', 'schöner', 'Tag', 'heute', 'mir', 'geht', 'es', 'damit', 'gut', 'Corona', 'Covid-19', 'Pandemie', 'Covid', 'Virus', 'Corona', 'Virus', 'Beschränkungen', 'Corona', 'Pandemie']\n",
            "['hobby', 'greeting', 'goodbye', 'age', 'name', 'help', 'hours', 'sleep', 'Uni', 'prak', 'neutral words', 'bad words', 'good words', 'Corona']\n",
            "[['im', 'Garten', 'arbeiten'], ['Internet'], ['soziale', 'Netzwerke'], ['social', 'media'], ['Shoppen'], ['Fernsehen'], ['Rätsel', 'lösen'], ['Bücher', 'lesen'], ['lesen'], ['Computerspiele', 'spielen'], ['PC', 'spielen'], ['Musik', 'machen'], ['ein', 'Instrument', 'spielen'], ['essen', 'gehen'], ['Handwerken'], ['Heimwerken'], ['Fitnessstudio'], ['Kraftsport'], ['Filme', 'gucken'], ['DVDs', 'gucken'], ['Kino'], ['wandern'], ['joggen'], ['laufen'], ['gesellschaftsspiele'], ['spiele', 'spielen'], ['basteln'], ['töpfern'], ['disco'], ['Club'], ['Tanzen'], ['Schwimmen'], ['Sport'], ['Kochen'], ['Stricken'], ['Thermalbäder'], ['Walking'], ['Mountainbike'], ['Fußball'], ['Yoga'], ['Rennrad'], ['Camping'], ['Tennis'], ['Freizeitparks'], ['Fotos'], ['Videos'], ['Reiten'], ['Roller'], ['Inlineskating'], ['Ski'], ['Angeln'], ['Leichtathletik'], ['Basketball'], ['Bergsteigen'], ['Flöte'], ['Klavier'], ['Trompete'], ['Hi'], ['Wie', 'geht', 'es', 'Dir', '?'], ['Jemand', 'da', '?'], ['Moin'], ['Tach'], ['Guten', 'morgen'], ['Guten', 'abend'], ['Guten', 'Tag'], ['Hallo'], ['Hello'], ['Ola'], ['Wie', 'geht', 'es'], ['Gruß', 'in', 'die', 'Runde'], ['Gute', 'Nacht'], ['Guten', 'Morgen'], ['Guten', 'Abend'], ['Grüß', 'Gott'], ['Grüezi'], ['Grüeziwohl'], ['Ich', 'grüße', 'Dich'], ['Ich', 'grüße', 'Sie'], ['Seien', 'Sie', 'gegrüßt'], ['Hallo', 'in', 'die', 'Runde'], ['hallihallo'], ['hallotschi'], ['hallöle'], ['hei'], ['hey'], ['heyho'], ['hiyo'], ['howdie'], ['huhu'], ['Mahlzeit'], ['moin'], ['morjen'], ['na'], ['na', 'du'], ['servus'], ['tach'], ['tachchen'], ['salut'], ['schalom'], ['schalömchen'], ['sei', 'gegrüßt'], ['Glück', 'auf'], ['Glückauf'], ['griass', 'di'], ['griass', 'god'], ['Tach', 'auch'], ['Tach', 'zusamm'], ['ahoi'], ['berg', 'heil'], ['gott', 'zum', 'gruße'], ['aloha'], ['CU'], ['Bis', 'später'], ['Bis', 'bald'], ['ciao'], ['Auf', 'wiedersehen'], ['Ich', 'bin', 'dann', 'mal', 'weg'], ['Tschüss'], ['Tschüssikowski'], ['Einen', 'schönen', 'Tag', 'noch', '!'], ['Man', 'sieht', 'sich', '!'], ['Au', 'revoir'], ['Goodbye'], ['ciao'], ['ciao', 'bella', '!'], ['grüß', 'Gott'], ['Gruß'], ['freundliche', 'Grüße'], ['liebe', 'grüße'], ['adele'], ['adios'], ['arrivederci'], ['baba'], ['babatshi'], ['bis', 'dann'], ['bis', 'demnächst'], ['bis', 'demnächst', 'in', 'diesem', 'theater'], ['bis', 'denn'], ['bis', 'die', 'tage'], ['bis', 'später'], ['bis', 'zum', 'nächsten', 'Mal'], ['belib', 'sauber'], ['bussi'], ['bye'], ['bye', 'bye'], ['bye-bye'], ['Grüßli'], ['Grüßchen'], ['See', 'you', 'later', ',', 'alligator'], ['guten', 'Tag', '!'], ['halt', 'dich'], ['halt', 'dich', 'senkrecht'], ['hasta', 'la', 'vista'], ['halt', 'die', 'Ohren', 'steif'], ['hau', 'rein'], ['ich', 'wünsch', 'dir', 'was'], ['komm', 'nicht', 'unter', 'die', 'räder'], ['lass', 'dich', 'nicht', 'hängen'], ['lass', 'von', 'dir', 'hören'], ['war', 'nett', 'mit', 'dir', ',', 'danke'], ['lass', 'die', 'haare', 'wehen'], ['leb', 'wohl'], ['lebe', 'wohl'], ['machs', 'gut'], ['mach', \"'s\", 'gut'], ['machs', 'besser'], ['mach', \"'s\", 'besser'], ['machs', 'hübsch'], ['man', 'schreibt', 'sich'], ['man', 'hört', 'sich'], ['man', 'spricht', 'sich'], ['meld', 'dich', 'mal'], ['sayonara'], ['schönen', 'abend', 'noch'], ['schönen', 'tag', 'noch'], ['so', 'long'], ['CU'], ['see', 'you'], ['see', 'you', 'later'], ['tschau', 'mit', 'AU'], ['tschüss'], ['tschüss', 'mit', 'ü'], ['tschüsschen'], ['tschaui'], ['tschö', 'mit', 'ö'], ['tüdelü'], ['und', 'dass', 'mir', 'keine', 'Klagen', 'kommen'], ['wir', 'sehen', 'uns'], ['wir', 'sehen', 'uns', 'noch'], ['wir', 'sehen', 'uns', 'später'], ['ade'], ['adieu'], ['denn', 'mach', \"'s\", 'ma', 'jut'], ['erstmal'], ['habedere'], ['gehab', 'dich', 'wohl'], ['gehaben', 'sie', 'sich', 'wohl'], ['gude'], ['grüßle'], ['mach', \"'s\", 'hübsch'], ['tschökes'], ['tüskes'], ['winke'], ['winke', 'winke'], ['Wie', 'alt', 'bist', 'Du'], ['Wie', 'alt', 'ist', 'Melinda'], ['Was', 'ist', 'dein', 'Alter'], ['Wie', 'heißt', 'Du'], ['Wie', 'soll', 'ich', 'Dich', 'nennen'], ['Was', 'ist', 'Dein', 'Name'], ['Sag', 'mir', ',', 'wie', 'Du', 'heißt'], ['Wie', 'ist', 'dein', 'Name'], ['Und', 'wie', 'heißt', 'du'], ['Ich', 'habe', 'da', 'eine', 'Frage'], ['Ich', 'verstehe', 'etwas', 'nicht'], ['Ich', 'komme', 'da', 'einfach', 'nicht', 'weiter'], ['Ich', 'bin', 'ratlos'], ['Kannst', 'du', 'mir', 'helfen', '?'], ['Wann', 'bist', 'Du', 'online'], ['Wann', 'kann', 'ich', 'mit', 'Dir', 'reden'], ['Online-Zeiten'], ['Ich', 'bin', 'müde'], ['Ich', 'habe', 'schlecht', 'geschlafen'], ['Ich', 'gehe', 'gleich', 'ins', 'Bett'], ['Bin', 'kaputt'], ['Gehe', 'gleich', 'schlafen'], ['müde'], ['schläfrig'], ['Schlaf'], ['bin', 'müde'], ['will', 'schlafen'], ['Ich', 'mache', 'gerade', 'Uni'], ['Bin', 'in', 'der', 'Uni'], ['Habe', 'gerade', 'Uni', 'gemacht'], ['Ich', 'bin', 'bei', 'einem', 'Uni', 'Freund'], ['Ich', 'lerne', 'für', 'die', 'Uni'], ['Ich', 'mache', 'Uni'], ['Bin', 'in', 'der', 'Uni'], ['Uni'], ['die', 'Uni'], ['Ich', 'schreibe', 'gerade', 'meinen', 'Praktikums', 'Bericht'], ['Ich', 'komme', 'gerade', 'vom', 'Praktikum'], ['Praktikum'], ['Ich', 'mache', 'das', 'Medizinpraktikum'], ['Der', 'Praktikumsbericht', 'ist', 'aufwendig'], ['Ich', 'bin', 'beim', 'Praktikum'], ['Bin', 'beim', 'Praktikum'], ['okay'], ['normal'], ['neutral'], ['naja'], ['in', 'Ordnung'], ['ganz', 'okay'], ['so', 'lala'], ['ok'], ['Mir', 'geht', 'es', 'schlecht'], ['Mir', 'ist', 'langweilig'], ['Ich', 'mag', 'chatten', 'nicht'], ['Warum', 'rede', 'ich', 'mit', 'Dir'], ['Ich', 'will', 'nicht'], ['Du', 'bist', 'doof'], ['Ich', 'mag', 'Dich', 'nicht'], ['Das', 'ist', 'doch', 'alles', 'sinnlos'], ['Alles', 'ist', 'doof'], ['Mir', 'geht', 'es', 'nicht', 'gut'], ['Mir', 'geht', \"'s\", 'schlecht'], ['Ich', 'fühle', 'mich', 'schlecht'], ['Ich', 'mache', 'mir', 'Sorgen'], ['sehr', 'schlecht'], ['mir', 'liegt', 'was', 'auf', 'dem', 'Herzen'], ['alles', 'blöd'], [':', '('], [':', '-', '('], [':', \"'\", '('], ['ich', 'habe', 'mich', 'alleingelassen', 'gefühlt'], ['Gefahr'], ['Schuld'], ['unnötig'], ['schädlich'], ['schwach'], ['schämen'], ['unfair'], ['Nachteil'], ['Verdacht'], ['Feind'], ['brechen'], ['schuldig'], ['ungerecht'], ['behindern'], ['schlecht'], ['bedenklich'], ['verurteilen'], ['ungünstig'], ['falsch'], ['primitiv'], ['betrügen'], ['verwerflich'], ['unwürdig'], ['gemein'], ['Risiko'], ['Krankheit'], ['Fehler'], ['Streit'], ['gering'], ['Kritiker'], ['schlimmer'], ['ablehnen'], ['lächerlich'], ['ungeeignet'], ['gefährlich'], ['unverständlich'], ['sinnlos'], ['Unzufriedenheit'], ['Sturz'], ['verbieten'], ['kontraproduktiv'], ['unsicher'], ['wertlos'], ['Vorurteil'], ['Ausgrenzung'], ['grausam'], ['schlicht'], ['unmoralisch'], ['täuschen'], ['unbedeutend'], ['minderwertig'], ['unzuverlässig'], ['Faulheit'], ['ungeschickt'], ['verdammen'], ['beleidigen'], ['unnütz'], ['bedeutungslos'], ['gnadenlos'], ['Groll'], ['untauglich'], ['inkompetent'], ['dumm'], ['abstoßend'], ['Kampf'], ['fehlen'], ['Krieg'], ['Gewalt'], ['Kritik'], ['Schaden'], ['vermeiden'], ['unzureichend'], ['Verlust'], ['töten'], ['verletzt'], ['überflüssig'], ['Angst'], ['zerstören'], ['übersehen'], ['Ablehnung'], ['Vorwurf'], ['Unrecht'], ['belasten'], ['Trennung'], ['veraltet'], ['Leid'], ['Hölle'], ['Schwäche'], ['trennen'], ['Verletzung'], ['zerstört'], ['Katastrophe'], ['unklar'], ['Hass'], ['Furcht'], ['gefährden'], ['Unglück'], ['Lüge'], ['beeinträchtigen'], ['zwingen'], ['Nein', ',', 'ich', 'lerne', 'meistens', 'alleine'], ['nein'], ['eher', 'nein'], ['er', 'läuft', 'schlecht'], ['heute', 'ist', 'nicht', 'mein', 'Tag'], ['ich', 'wünschte', 'der', 'Tag', 'wäre', 'schon', 'vorbei'], ['Ich', 'bin', 'froh', ',', 'wenn', 'der', 'Tag', 'rum', 'ist'], ['es', 'war', 'schlimm'], ['furchtbar'], ['nicht', 'so', 'toll'], ['Ne'], ['ich', 'kann', 'damit', 'nichts', 'anfangen'], ['Nö'], ['Super', 'Tag', 'heute'], ['Mir', 'geht', 'es', 'prima'], ['Ich', 'liebe', 'ChatBots'], ['Mir', 'geht', 'es', 'gut'], ['Ja', ',', 'ich', 'lerne', 'mit', 'anderen', 'zusammen'], ['Juhuu'], ['Haha'], ['Jipieeh'], ['Ich', 'bin', 'glücklich'], ['Alles', 'super'], ['sehr', 'gut'], ['Ich', 'bin', 'glücklich'], ['gut'], ['alles', 'gut'], ['Ich', 'freue', 'mich'], ['gelungen'], ['perfekt'], ['Lob'], ['wunderbar'], ['spannend'], ['wunderschön'], ['romantisch'], ['zuvorkommend'], ['Freude'], ['Mut'], ['freundlich'], ['hervorragend'], ['kreativ'], ['gelohnt'], ['abwechslungsreich'], ['prima'], ['traumhaft'], ['phantastisch'], ['euphorisch'], ['gigantisch'], ['besonders'], ['stolz'], ['toll'], ['Ruhe'], ['super'], ['genießen'], ['feiern'], ['angenehm'], ['herrlich'], ['Geschenk'], ['fein'], ['professionell'], ['liebevoll'], ['bewährt'], ['beherrscht'], ['hübsch'], ['großartig'], ['klettern'], ['riesig'], ['sympathisch'], ['bemerkenswert'], ['überzeugend'], ['witzig'], ['gerührt'], ['loben'], ['begeistern'], ['Gratulation'], ['exzellent'], ['zufrieden'], ['wichtig'], ['ruhig'], ['warm'], ['fertig'], ['sicher'], ['helfen'], ['gut'], ['unglaublich'], ['miteinander'], ['groß'], ['fit'], ['gemütlich'], ['reichlich'], ['süß'], ['verdient'], ['wachsen'], ['weich'], ['fleißig'], ['verwöhnen'], ['wertvoll'], ['heiß'], ['satt'], ['sauber'], ['motiviert'], ['klug'], ['treu'], ['Vertrauen'], ['bunt'], ['gepflegt'], ['harmonisch'], ['klasse'], ['sexy'], ['mögen'], ['Erfolg'], ['vernünftig'], ['mutig'], ['heil'], ['schlau'], ['joa'], ['beeindruckend'], ['gefeiert'], ['lächeln'], ['Stil'], ['glänzen'], ['überzeugen'], ['außergewöhnlich'], ['flott'], ['gönnen'], ['ansprechend'], ['sanft'], ['hilfsbereit'], ['schick'], ['ja'], [':', '-', ')'], [':', ')'], [':', 'D'], [';', ')'], [';', '-', ')'], ['es', 'war', 'gut'], ['er', 'läuft', 'gut'], ['es', 'ist', 'alles', 'super'], ['es', 'ist', 'ein', 'guter', 'Tag'], ['Ich', 'genieße', 'den', 'Tag'], ['schöner', 'Tag', 'heute'], ['mir', 'geht', 'es', 'damit', 'gut'], ['Corona'], ['Covid-19'], ['Pandemie'], ['Covid'], ['Virus'], ['Corona', 'Virus'], ['Beschränkungen'], ['Corona', 'Pandemie']]\n",
            "['hobby', 'hobby', 'hobby', 'hobby', 'hobby', 'hobby', 'hobby', 'hobby', 'hobby', 'hobby', 'hobby', 'hobby', 'hobby', 'hobby', 'hobby', 'hobby', 'hobby', 'hobby', 'hobby', 'hobby', 'hobby', 'hobby', 'hobby', 'hobby', 'hobby', 'hobby', 'hobby', 'hobby', 'hobby', 'hobby', 'hobby', 'hobby', 'hobby', 'hobby', 'hobby', 'hobby', 'hobby', 'hobby', 'hobby', 'hobby', 'hobby', 'hobby', 'hobby', 'hobby', 'hobby', 'hobby', 'hobby', 'hobby', 'hobby', 'hobby', 'hobby', 'hobby', 'hobby', 'hobby', 'hobby', 'hobby', 'hobby', 'greeting', 'greeting', 'greeting', 'greeting', 'greeting', 'greeting', 'greeting', 'greeting', 'greeting', 'greeting', 'greeting', 'greeting', 'greeting', 'greeting', 'greeting', 'greeting', 'greeting', 'greeting', 'greeting', 'greeting', 'greeting', 'greeting', 'greeting', 'greeting', 'greeting', 'greeting', 'greeting', 'greeting', 'greeting', 'greeting', 'greeting', 'greeting', 'greeting', 'greeting', 'greeting', 'greeting', 'greeting', 'greeting', 'greeting', 'greeting', 'greeting', 'greeting', 'greeting', 'greeting', 'greeting', 'greeting', 'greeting', 'greeting', 'greeting', 'greeting', 'greeting', 'greeting', 'greeting', 'greeting', 'goodbye', 'goodbye', 'goodbye', 'goodbye', 'goodbye', 'goodbye', 'goodbye', 'goodbye', 'goodbye', 'goodbye', 'goodbye', 'goodbye', 'goodbye', 'goodbye', 'goodbye', 'goodbye', 'goodbye', 'goodbye', 'goodbye', 'goodbye', 'goodbye', 'goodbye', 'goodbye', 'goodbye', 'goodbye', 'goodbye', 'goodbye', 'goodbye', 'goodbye', 'goodbye', 'goodbye', 'goodbye', 'goodbye', 'goodbye', 'goodbye', 'goodbye', 'goodbye', 'goodbye', 'goodbye', 'goodbye', 'goodbye', 'goodbye', 'goodbye', 'goodbye', 'goodbye', 'goodbye', 'goodbye', 'goodbye', 'goodbye', 'goodbye', 'goodbye', 'goodbye', 'goodbye', 'goodbye', 'goodbye', 'goodbye', 'goodbye', 'goodbye', 'goodbye', 'goodbye', 'goodbye', 'goodbye', 'goodbye', 'goodbye', 'goodbye', 'goodbye', 'goodbye', 'goodbye', 'goodbye', 'goodbye', 'goodbye', 'goodbye', 'goodbye', 'goodbye', 'goodbye', 'goodbye', 'goodbye', 'goodbye', 'goodbye', 'goodbye', 'goodbye', 'goodbye', 'goodbye', 'goodbye', 'goodbye', 'goodbye', 'goodbye', 'goodbye', 'goodbye', 'goodbye', 'goodbye', 'goodbye', 'goodbye', 'age', 'age', 'age', 'name', 'name', 'name', 'name', 'name', 'name', 'help', 'help', 'help', 'help', 'help', 'hours', 'hours', 'hours', 'sleep', 'sleep', 'sleep', 'sleep', 'sleep', 'sleep', 'sleep', 'sleep', 'sleep', 'sleep', 'Uni', 'Uni', 'Uni', 'Uni', 'Uni', 'Uni', 'Uni', 'Uni', 'Uni', 'prak', 'prak', 'prak', 'prak', 'prak', 'prak', 'prak', 'neutral words', 'neutral words', 'neutral words', 'neutral words', 'neutral words', 'neutral words', 'neutral words', 'neutral words', 'bad words', 'bad words', 'bad words', 'bad words', 'bad words', 'bad words', 'bad words', 'bad words', 'bad words', 'bad words', 'bad words', 'bad words', 'bad words', 'bad words', 'bad words', 'bad words', 'bad words', 'bad words', 'bad words', 'bad words', 'bad words', 'bad words', 'bad words', 'bad words', 'bad words', 'bad words', 'bad words', 'bad words', 'bad words', 'bad words', 'bad words', 'bad words', 'bad words', 'bad words', 'bad words', 'bad words', 'bad words', 'bad words', 'bad words', 'bad words', 'bad words', 'bad words', 'bad words', 'bad words', 'bad words', 'bad words', 'bad words', 'bad words', 'bad words', 'bad words', 'bad words', 'bad words', 'bad words', 'bad words', 'bad words', 'bad words', 'bad words', 'bad words', 'bad words', 'bad words', 'bad words', 'bad words', 'bad words', 'bad words', 'bad words', 'bad words', 'bad words', 'bad words', 'bad words', 'bad words', 'bad words', 'bad words', 'bad words', 'bad words', 'bad words', 'bad words', 'bad words', 'bad words', 'bad words', 'bad words', 'bad words', 'bad words', 'bad words', 'bad words', 'bad words', 'bad words', 'bad words', 'bad words', 'bad words', 'bad words', 'bad words', 'bad words', 'bad words', 'bad words', 'bad words', 'bad words', 'bad words', 'bad words', 'bad words', 'bad words', 'bad words', 'bad words', 'bad words', 'bad words', 'bad words', 'bad words', 'bad words', 'bad words', 'bad words', 'bad words', 'bad words', 'bad words', 'bad words', 'bad words', 'bad words', 'bad words', 'bad words', 'bad words', 'bad words', 'bad words', 'bad words', 'bad words', 'bad words', 'bad words', 'bad words', 'bad words', 'bad words', 'bad words', 'bad words', 'bad words', 'bad words', 'bad words', 'bad words', 'good words', 'good words', 'good words', 'good words', 'good words', 'good words', 'good words', 'good words', 'good words', 'good words', 'good words', 'good words', 'good words', 'good words', 'good words', 'good words', 'good words', 'good words', 'good words', 'good words', 'good words', 'good words', 'good words', 'good words', 'good words', 'good words', 'good words', 'good words', 'good words', 'good words', 'good words', 'good words', 'good words', 'good words', 'good words', 'good words', 'good words', 'good words', 'good words', 'good words', 'good words', 'good words', 'good words', 'good words', 'good words', 'good words', 'good words', 'good words', 'good words', 'good words', 'good words', 'good words', 'good words', 'good words', 'good words', 'good words', 'good words', 'good words', 'good words', 'good words', 'good words', 'good words', 'good words', 'good words', 'good words', 'good words', 'good words', 'good words', 'good words', 'good words', 'good words', 'good words', 'good words', 'good words', 'good words', 'good words', 'good words', 'good words', 'good words', 'good words', 'good words', 'good words', 'good words', 'good words', 'good words', 'good words', 'good words', 'good words', 'good words', 'good words', 'good words', 'good words', 'good words', 'good words', 'good words', 'good words', 'good words', 'good words', 'good words', 'good words', 'good words', 'good words', 'good words', 'good words', 'good words', 'good words', 'good words', 'good words', 'good words', 'good words', 'good words', 'good words', 'good words', 'good words', 'good words', 'good words', 'good words', 'good words', 'good words', 'good words', 'good words', 'good words', 'good words', 'good words', 'good words', 'good words', 'good words', 'good words', 'good words', 'Corona', 'Corona', 'Corona', 'Corona', 'Corona', 'Corona', 'Corona', 'Corona']\n"
          ]
        }
      ]
    },
    {
      "cell_type": "markdown",
      "source": [
        "## \"Gehirn\""
      ],
      "metadata": {
        "id": "AoZHZx6IJZHo"
      }
    },
    {
      "cell_type": "code",
      "source": [
        "class Classifier(nn.Module):\n",
        "    def __init__(self, dim_in, dim_out):\n",
        "        super().__init__()\n",
        "        self.layer1 = nn.Linear(dim_in, dim_out)\n",
        "    \n",
        "    def forward(self, x):\n",
        "        out = self.layer1(x)\n",
        "        return out\n",
        "\n",
        "dim_in = len(training[0])\n",
        "dim_out = len(output[0])\n",
        "model = Classifier(dim_in, dim_out).to(device)\n",
        "\n",
        "print(dim_in, dim_out)"
      ],
      "metadata": {
        "id": "qpHFWYyOmF_p",
        "colab": {
          "base_uri": "https://localhost:8080/"
        },
        "outputId": "dd024ed1-e95c-4e7a-860d-c854af1a6948"
      },
      "execution_count": 5,
      "outputs": [
        {
          "output_type": "stream",
          "name": "stdout",
          "text": [
            "507 14\n"
          ]
        }
      ]
    },
    {
      "cell_type": "markdown",
      "source": [
        "## Training \"Gehirn\""
      ],
      "metadata": {
        "id": "dHoDeyFhJcHe"
      }
    },
    {
      "cell_type": "code",
      "source": [
        "optimizer = torch.optim.Adam(model.parameters(), lr=1e-3)\n",
        "loss_func = F.cross_entropy\n",
        "\n",
        "n_epochs = 1000\n",
        "lossliste = torch.zeros(n_epochs)\n",
        "\n",
        "print(training.shape, output.shape)\n",
        "for epoch in range(n_epochs):\n",
        "    out = model(training)\n",
        "    loss = loss_func(out, output)\n",
        "    loss.backward()\n",
        "    optimizer.step()\n",
        "    lossliste[epoch] = loss.item()\n",
        "    if epoch%100==0:\n",
        "        print(epoch, loss.item())\n",
        "\n",
        "plt.figure()\n",
        "plt.plot(lossliste.cpu().numpy())\n",
        "plt.show()\n"
      ],
      "metadata": {
        "colab": {
          "base_uri": "https://localhost:8080/",
          "height": 467
        },
        "id": "913Tt2Atmy6P",
        "outputId": "1a6aa55e-dd71-463e-c8a2-af2de826e46b"
      },
      "execution_count": 15,
      "outputs": [
        {
          "output_type": "stream",
          "name": "stdout",
          "text": [
            "torch.Size([525, 507]) torch.Size([525, 14])\n",
            "0 0.2361336201429367\n",
            "100 0.20726746320724487\n",
            "200 0.18326255679130554\n",
            "300 0.16287873685359955\n",
            "400 0.14540714025497437\n",
            "500 0.13045649230480194\n",
            "600 0.11758658289909363\n",
            "700 0.10639308393001556\n",
            "800 0.09661634266376495\n",
            "900 0.08812499046325684\n"
          ]
        },
        {
          "output_type": "display_data",
          "data": {
            "image/png": "[encoded data removed]",
            "text/plain": [
              "<Figure size 432x288 with 1 Axes>"
            ]
          },
          "metadata": {
            "needs_background": "light"
          }
        }
      ]
    },
    {
      "cell_type": "markdown",
      "source": [
        "## Verarbeite Input"
      ],
      "metadata": {
        "id": "nySuaqRWMoSO"
      }
    },
    {
      "cell_type": "code",
      "source": [
        "from random import choice\n",
        "\n",
        "def predict(message, model, words, labels, data):\n",
        "    message = message.lower()\n",
        "    result = model(bagofwords(message, words).to(device))\n",
        "    result_index = torch.argmax(result)\n",
        "    tag = labels[result_index]\n",
        "\n",
        "    if result[result_index] > 0.9:\n",
        "        for tg in data[\"intents\"]:\n",
        "            if tg[\"tag\"] == tag:\n",
        "                responses = tg[\"responses\"]\n",
        "        response = choice(responses)\n",
        "    else:\n",
        "        response = \"Come again for Big Fudge?\"\n",
        "    return tag, response"
      ],
      "metadata": {
        "id": "g3tg_CSzMrNS"
      },
      "execution_count": 25,
      "outputs": []
    },
    {
      "cell_type": "markdown",
      "source": [
        "## Verständnistest"
      ],
      "metadata": {
        "id": "Br5LQ-8YLKxi"
      }
    },
    {
      "cell_type": "code",
      "source": [
        "model.eval()\n",
        "\n",
        "print(\"Chatbot:\", \"Hallo :-)\")\n",
        "user_input = input(\"User:    \")\n",
        "tag, response = predict(user_input, model, words, labels, data)\n",
        "print(\"Chatbot glaubt, das Label ist\", tag)\n",
        "print(\"Chatbot:\", response)\n",
        "\n",
        "print(\"Chatbot:\", \"Wie geht es dir?\")\n",
        "user_input = input(\"User:    \")\n",
        "tag, response = predict(user_input, model, words, labels, data)\n",
        "print(\"Chatbot glaubt, das Label ist\", tag)\n",
        "print(\"Chatbot:\", response)\n",
        "\n",
        "print(\"Chatbot:\", \"Ich muss jetzt leider gehen... Auf Wiedersehen :-)\")\n",
        "user_input = input(\"User:    \")\n",
        "tag, response = predict(user_input, model, words, labels, data)\n",
        "print(\"Chatbot glaubt, das Label ist\", tag)\n",
        "print(\"Chatbot:\", response)"
      ],
      "metadata": {
        "colab": {
          "base_uri": "https://localhost:8080/"
        },
        "id": "J0akVvUOLKPJ",
        "outputId": "8a2f4e07-d671-4e39-e673-cee1d3c53bba"
      },
      "execution_count": 30,
      "outputs": [
        {
          "output_type": "stream",
          "name": "stdout",
          "text": [
            "Chatbot: Hallo :-)\n",
            "User:    Blablabla\n",
            "['blablabl']\n",
            "Chatbot glaubt, das Label ist good words\n",
            "Chatbot: Freut mich, dass es dir gut geht!\n",
            "Chatbot: Wie geht es dir?\n",
            "User:    asdlfkjwaoihvn\n",
            "['asdlfkjwaoihvn']\n",
            "Chatbot glaubt, das Label ist good words\n",
            "Chatbot: Ich bin heute auch super drauf!\n",
            "Chatbot: Ich muss jetzt leider gehen... Auf Wiedersehen :-)\n",
            "User:    eionfgojn vonerf\n",
            "['eionfgojn', 'vonerf']\n",
            "Chatbot glaubt, das Label ist good words\n",
            "Chatbot: Ich empfange gute Schwingungen\n"
          ]
        }
      ]
    },
    {
      "cell_type": "markdown",
      "source": [
        "# Alte Tests"
      ],
      "metadata": {
        "id": "sys1BykWJfLR"
      }
    },
    {
      "cell_type": "code",
      "source": [
        "import json\n",
        "import urllib.request\n",
        "with urllib.request.urlopen(\"https://raw.githubusercontent.com/inb-luebeck/chat_bot/main/Melinda/intents.json?token=GHSAT0AAAAAABQNOK46CRADPTF4EY5NRSGWYO4D7XA\") as file:\n",
        "    data = json.loads(file.read().decode())\n",
        "print(data)"
      ],
      "metadata": {
        "colab": {
          "base_uri": "https://localhost:8080/",
          "height": 404
        },
        "id": "6Z8Ddvs61WjF",
        "outputId": "7dfc1fb3-b521-46b7-f310-ff728360d695"
      },
      "execution_count": null,
      "outputs": [
        {
          "output_type": "error",
          "ename": "HTTPError",
          "evalue": "ignored",
          "traceback": [
            "\u001b[0;31m---------------------------------------------------------------------------\u001b[0m",
            "\u001b[0;31mHTTPError\u001b[0m                                 Traceback (most recent call last)",
            "\u001b[0;32m<ipython-input-34-584ffae0b01e>\u001b[0m in \u001b[0;36m<module>\u001b[0;34m()\u001b[0m\n\u001b[1;32m      1\u001b[0m \u001b[0;32mimport\u001b[0m \u001b[0mjson\u001b[0m\u001b[0;34m\u001b[0m\u001b[0;34m\u001b[0m\u001b[0m\n\u001b[1;32m      2\u001b[0m \u001b[0;32mimport\u001b[0m \u001b[0murllib\u001b[0m\u001b[0;34m.\u001b[0m\u001b[0mrequest\u001b[0m\u001b[0;34m\u001b[0m\u001b[0;34m\u001b[0m\u001b[0m\n\u001b[0;32m----> 3\u001b[0;31m \u001b[0;32mwith\u001b[0m \u001b[0murllib\u001b[0m\u001b[0;34m.\u001b[0m\u001b[0mrequest\u001b[0m\u001b[0;34m.\u001b[0m\u001b[0murlopen\u001b[0m\u001b[0;34m(\u001b[0m\u001b[0;34m\"https://raw.githubusercontent.com/inb-luebeck/chat_bot/main/Melinda/intents.json?token=GHSAT0AAAAAABQNOK46CRADPTF4EY5NRSGWYO4D7XA\"\u001b[0m\u001b[0;34m)\u001b[0m \u001b[0;32mas\u001b[0m \u001b[0mfile\u001b[0m\u001b[0;34m:\u001b[0m\u001b[0;34m\u001b[0m\u001b[0;34m\u001b[0m\u001b[0m\n\u001b[0m\u001b[1;32m      4\u001b[0m     \u001b[0mdata\u001b[0m \u001b[0;34m=\u001b[0m \u001b[0mjson\u001b[0m\u001b[0;34m.\u001b[0m\u001b[0mloads\u001b[0m\u001b[0;34m(\u001b[0m\u001b[0mfile\u001b[0m\u001b[0;34m.\u001b[0m\u001b[0mread\u001b[0m\u001b[0;34m(\u001b[0m\u001b[0;34m)\u001b[0m\u001b[0;34m.\u001b[0m\u001b[0mdecode\u001b[0m\u001b[0;34m(\u001b[0m\u001b[0;34m)\u001b[0m\u001b[0;34m)\u001b[0m\u001b[0;34m\u001b[0m\u001b[0;34m\u001b[0m\u001b[0m\n\u001b[1;32m      5\u001b[0m \u001b[0mprint\u001b[0m\u001b[0;34m(\u001b[0m\u001b[0mdata\u001b[0m\u001b[0;34m)\u001b[0m\u001b[0;34m\u001b[0m\u001b[0;34m\u001b[0m\u001b[0m\n",
            "\u001b[0;32m/usr/lib/python3.7/urllib/request.py\u001b[0m in \u001b[0;36murlopen\u001b[0;34m(url, data, timeout, cafile, capath, cadefault, context)\u001b[0m\n\u001b[1;32m    220\u001b[0m     \u001b[0;32melse\u001b[0m\u001b[0;34m:\u001b[0m\u001b[0;34m\u001b[0m\u001b[0;34m\u001b[0m\u001b[0m\n\u001b[1;32m    221\u001b[0m         \u001b[0mopener\u001b[0m \u001b[0;34m=\u001b[0m \u001b[0m_opener\u001b[0m\u001b[0;34m\u001b[0m\u001b[0;34m\u001b[0m\u001b[0m\n\u001b[0;32m--> 222\u001b[0;31m     \u001b[0;32mreturn\u001b[0m \u001b[0mopener\u001b[0m\u001b[0;34m.\u001b[0m\u001b[0mopen\u001b[0m\u001b[0;34m(\u001b[0m\u001b[0murl\u001b[0m\u001b[0;34m,\u001b[0m \u001b[0mdata\u001b[0m\u001b[0;34m,\u001b[0m \u001b[0mtimeout\u001b[0m\u001b[0;34m)\u001b[0m\u001b[0;34m\u001b[0m\u001b[0;34m\u001b[0m\u001b[0m\n\u001b[0m\u001b[1;32m    223\u001b[0m \u001b[0;34m\u001b[0m\u001b[0m\n\u001b[1;32m    224\u001b[0m \u001b[0;32mdef\u001b[0m \u001b[0minstall_opener\u001b[0m\u001b[0;34m(\u001b[0m\u001b[0mopener\u001b[0m\u001b[0;34m)\u001b[0m\u001b[0;34m:\u001b[0m\u001b[0;34m\u001b[0m\u001b[0;34m\u001b[0m\u001b[0m\n",
            "\u001b[0;32m/usr/lib/python3.7/urllib/request.py\u001b[0m in \u001b[0;36mopen\u001b[0;34m(self, fullurl, data, timeout)\u001b[0m\n\u001b[1;32m    529\u001b[0m         \u001b[0;32mfor\u001b[0m \u001b[0mprocessor\u001b[0m \u001b[0;32min\u001b[0m \u001b[0mself\u001b[0m\u001b[0;34m.\u001b[0m\u001b[0mprocess_response\u001b[0m\u001b[0;34m.\u001b[0m\u001b[0mget\u001b[0m\u001b[0;34m(\u001b[0m\u001b[0mprotocol\u001b[0m\u001b[0;34m,\u001b[0m \u001b[0;34m[\u001b[0m\u001b[0;34m]\u001b[0m\u001b[0;34m)\u001b[0m\u001b[0;34m:\u001b[0m\u001b[0;34m\u001b[0m\u001b[0;34m\u001b[0m\u001b[0m\n\u001b[1;32m    530\u001b[0m             \u001b[0mmeth\u001b[0m \u001b[0;34m=\u001b[0m \u001b[0mgetattr\u001b[0m\u001b[0;34m(\u001b[0m\u001b[0mprocessor\u001b[0m\u001b[0;34m,\u001b[0m \u001b[0mmeth_name\u001b[0m\u001b[0;34m)\u001b[0m\u001b[0;34m\u001b[0m\u001b[0;34m\u001b[0m\u001b[0m\n\u001b[0;32m--> 531\u001b[0;31m             \u001b[0mresponse\u001b[0m \u001b[0;34m=\u001b[0m \u001b[0mmeth\u001b[0m\u001b[0;34m(\u001b[0m\u001b[0mreq\u001b[0m\u001b[0;34m,\u001b[0m \u001b[0mresponse\u001b[0m\u001b[0;34m)\u001b[0m\u001b[0;34m\u001b[0m\u001b[0;34m\u001b[0m\u001b[0m\n\u001b[0m\u001b[1;32m    532\u001b[0m \u001b[0;34m\u001b[0m\u001b[0m\n\u001b[1;32m    533\u001b[0m         \u001b[0;32mreturn\u001b[0m \u001b[0mresponse\u001b[0m\u001b[0;34m\u001b[0m\u001b[0;34m\u001b[0m\u001b[0m\n",
            "\u001b[0;32m/usr/lib/python3.7/urllib/request.py\u001b[0m in \u001b[0;36mhttp_response\u001b[0;34m(self, request, response)\u001b[0m\n\u001b[1;32m    639\u001b[0m         \u001b[0;32mif\u001b[0m \u001b[0;32mnot\u001b[0m \u001b[0;34m(\u001b[0m\u001b[0;36m200\u001b[0m \u001b[0;34m<=\u001b[0m \u001b[0mcode\u001b[0m \u001b[0;34m<\u001b[0m \u001b[0;36m300\u001b[0m\u001b[0;34m)\u001b[0m\u001b[0;34m:\u001b[0m\u001b[0;34m\u001b[0m\u001b[0;34m\u001b[0m\u001b[0m\n\u001b[1;32m    640\u001b[0m             response = self.parent.error(\n\u001b[0;32m--> 641\u001b[0;31m                 'http', request, response, code, msg, hdrs)\n\u001b[0m\u001b[1;32m    642\u001b[0m \u001b[0;34m\u001b[0m\u001b[0m\n\u001b[1;32m    643\u001b[0m         \u001b[0;32mreturn\u001b[0m \u001b[0mresponse\u001b[0m\u001b[0;34m\u001b[0m\u001b[0;34m\u001b[0m\u001b[0m\n",
            "\u001b[0;32m/usr/lib/python3.7/urllib/request.py\u001b[0m in \u001b[0;36merror\u001b[0;34m(self, proto, *args)\u001b[0m\n\u001b[1;32m    567\u001b[0m         \u001b[0;32mif\u001b[0m \u001b[0mhttp_err\u001b[0m\u001b[0;34m:\u001b[0m\u001b[0;34m\u001b[0m\u001b[0;34m\u001b[0m\u001b[0m\n\u001b[1;32m    568\u001b[0m             \u001b[0margs\u001b[0m \u001b[0;34m=\u001b[0m \u001b[0;34m(\u001b[0m\u001b[0mdict\u001b[0m\u001b[0;34m,\u001b[0m \u001b[0;34m'default'\u001b[0m\u001b[0;34m,\u001b[0m \u001b[0;34m'http_error_default'\u001b[0m\u001b[0;34m)\u001b[0m \u001b[0;34m+\u001b[0m \u001b[0morig_args\u001b[0m\u001b[0;34m\u001b[0m\u001b[0;34m\u001b[0m\u001b[0m\n\u001b[0;32m--> 569\u001b[0;31m             \u001b[0;32mreturn\u001b[0m \u001b[0mself\u001b[0m\u001b[0;34m.\u001b[0m\u001b[0m_call_chain\u001b[0m\u001b[0;34m(\u001b[0m\u001b[0;34m*\u001b[0m\u001b[0margs\u001b[0m\u001b[0;34m)\u001b[0m\u001b[0;34m\u001b[0m\u001b[0;34m\u001b[0m\u001b[0m\n\u001b[0m\u001b[1;32m    570\u001b[0m \u001b[0;34m\u001b[0m\u001b[0m\n\u001b[1;32m    571\u001b[0m \u001b[0;31m# XXX probably also want an abstract factory that knows when it makes\u001b[0m\u001b[0;34m\u001b[0m\u001b[0;34m\u001b[0m\u001b[0;34m\u001b[0m\u001b[0m\n",
            "\u001b[0;32m/usr/lib/python3.7/urllib/request.py\u001b[0m in \u001b[0;36m_call_chain\u001b[0;34m(self, chain, kind, meth_name, *args)\u001b[0m\n\u001b[1;32m    501\u001b[0m         \u001b[0;32mfor\u001b[0m \u001b[0mhandler\u001b[0m \u001b[0;32min\u001b[0m \u001b[0mhandlers\u001b[0m\u001b[0;34m:\u001b[0m\u001b[0;34m\u001b[0m\u001b[0;34m\u001b[0m\u001b[0m\n\u001b[1;32m    502\u001b[0m             \u001b[0mfunc\u001b[0m \u001b[0;34m=\u001b[0m \u001b[0mgetattr\u001b[0m\u001b[0;34m(\u001b[0m\u001b[0mhandler\u001b[0m\u001b[0;34m,\u001b[0m \u001b[0mmeth_name\u001b[0m\u001b[0;34m)\u001b[0m\u001b[0;34m\u001b[0m\u001b[0;34m\u001b[0m\u001b[0m\n\u001b[0;32m--> 503\u001b[0;31m             \u001b[0mresult\u001b[0m \u001b[0;34m=\u001b[0m \u001b[0mfunc\u001b[0m\u001b[0;34m(\u001b[0m\u001b[0;34m*\u001b[0m\u001b[0margs\u001b[0m\u001b[0;34m)\u001b[0m\u001b[0;34m\u001b[0m\u001b[0;34m\u001b[0m\u001b[0m\n\u001b[0m\u001b[1;32m    504\u001b[0m             \u001b[0;32mif\u001b[0m \u001b[0mresult\u001b[0m \u001b[0;32mis\u001b[0m \u001b[0;32mnot\u001b[0m \u001b[0;32mNone\u001b[0m\u001b[0;34m:\u001b[0m\u001b[0;34m\u001b[0m\u001b[0;34m\u001b[0m\u001b[0m\n\u001b[1;32m    505\u001b[0m                 \u001b[0;32mreturn\u001b[0m \u001b[0mresult\u001b[0m\u001b[0;34m\u001b[0m\u001b[0;34m\u001b[0m\u001b[0m\n",
            "\u001b[0;32m/usr/lib/python3.7/urllib/request.py\u001b[0m in \u001b[0;36mhttp_error_default\u001b[0;34m(self, req, fp, code, msg, hdrs)\u001b[0m\n\u001b[1;32m    647\u001b[0m \u001b[0;32mclass\u001b[0m \u001b[0mHTTPDefaultErrorHandler\u001b[0m\u001b[0;34m(\u001b[0m\u001b[0mBaseHandler\u001b[0m\u001b[0;34m)\u001b[0m\u001b[0;34m:\u001b[0m\u001b[0;34m\u001b[0m\u001b[0;34m\u001b[0m\u001b[0m\n\u001b[1;32m    648\u001b[0m     \u001b[0;32mdef\u001b[0m \u001b[0mhttp_error_default\u001b[0m\u001b[0;34m(\u001b[0m\u001b[0mself\u001b[0m\u001b[0;34m,\u001b[0m \u001b[0mreq\u001b[0m\u001b[0;34m,\u001b[0m \u001b[0mfp\u001b[0m\u001b[0;34m,\u001b[0m \u001b[0mcode\u001b[0m\u001b[0;34m,\u001b[0m \u001b[0mmsg\u001b[0m\u001b[0;34m,\u001b[0m \u001b[0mhdrs\u001b[0m\u001b[0;34m)\u001b[0m\u001b[0;34m:\u001b[0m\u001b[0;34m\u001b[0m\u001b[0;34m\u001b[0m\u001b[0m\n\u001b[0;32m--> 649\u001b[0;31m         \u001b[0;32mraise\u001b[0m \u001b[0mHTTPError\u001b[0m\u001b[0;34m(\u001b[0m\u001b[0mreq\u001b[0m\u001b[0;34m.\u001b[0m\u001b[0mfull_url\u001b[0m\u001b[0;34m,\u001b[0m \u001b[0mcode\u001b[0m\u001b[0;34m,\u001b[0m \u001b[0mmsg\u001b[0m\u001b[0;34m,\u001b[0m \u001b[0mhdrs\u001b[0m\u001b[0;34m,\u001b[0m \u001b[0mfp\u001b[0m\u001b[0;34m)\u001b[0m\u001b[0;34m\u001b[0m\u001b[0;34m\u001b[0m\u001b[0m\n\u001b[0m\u001b[1;32m    650\u001b[0m \u001b[0;34m\u001b[0m\u001b[0m\n\u001b[1;32m    651\u001b[0m \u001b[0;32mclass\u001b[0m \u001b[0mHTTPRedirectHandler\u001b[0m\u001b[0;34m(\u001b[0m\u001b[0mBaseHandler\u001b[0m\u001b[0;34m)\u001b[0m\u001b[0;34m:\u001b[0m\u001b[0;34m\u001b[0m\u001b[0;34m\u001b[0m\u001b[0m\n",
            "\u001b[0;31mHTTPError\u001b[0m: HTTP Error 404: Not Found"
          ]
        }
      ]
    },
    {
      "cell_type": "code",
      "source": [
        "import pickle\n",
        "import cloudpickle as cp\n",
        "\n",
        "loaded_pickle_object = cp.load(urllib.request.urlopen(\"https://github.com/inb-luebeck/chat_bot/blob/main/Melinda/model/data.pickle?raw=true\", \"rb\"))\n",
        "print(loaded_pickle_object)\n"
      ],
      "metadata": {
        "colab": {
          "base_uri": "https://localhost:8080/",
          "height": 385
        },
        "id": "mFaN0aMS3gQ4",
        "outputId": "2a9ba27a-146b-4445-80dd-66c8cd5fffd6"
      },
      "execution_count": null,
      "outputs": [
        {
          "output_type": "error",
          "ename": "TypeError",
          "evalue": "ignored",
          "traceback": [
            "\u001b[0;31m---------------------------------------------------------------------------\u001b[0m",
            "\u001b[0;31mTypeError\u001b[0m                                 Traceback (most recent call last)",
            "\u001b[0;32m<ipython-input-33-dac9f8e83bae>\u001b[0m in \u001b[0;36m<module>\u001b[0;34m()\u001b[0m\n\u001b[1;32m      2\u001b[0m \u001b[0;32mimport\u001b[0m \u001b[0mcloudpickle\u001b[0m \u001b[0;32mas\u001b[0m \u001b[0mcp\u001b[0m\u001b[0;34m\u001b[0m\u001b[0;34m\u001b[0m\u001b[0m\n\u001b[1;32m      3\u001b[0m \u001b[0;34m\u001b[0m\u001b[0m\n\u001b[0;32m----> 4\u001b[0;31m \u001b[0mloaded_pickle_object\u001b[0m \u001b[0;34m=\u001b[0m \u001b[0mcp\u001b[0m\u001b[0;34m.\u001b[0m\u001b[0mload\u001b[0m\u001b[0;34m(\u001b[0m\u001b[0murllib\u001b[0m\u001b[0;34m.\u001b[0m\u001b[0mrequest\u001b[0m\u001b[0;34m.\u001b[0m\u001b[0murlopen\u001b[0m\u001b[0;34m(\u001b[0m\u001b[0;34m\"https://github.com/inb-luebeck/chat_bot/blob/main/Melinda/model/data.pickle?raw=true\"\u001b[0m\u001b[0;34m,\u001b[0m \u001b[0;34m\"rb\"\u001b[0m\u001b[0;34m)\u001b[0m\u001b[0;34m)\u001b[0m\u001b[0;34m\u001b[0m\u001b[0;34m\u001b[0m\u001b[0m\n\u001b[0m\u001b[1;32m      5\u001b[0m \u001b[0mprint\u001b[0m\u001b[0;34m(\u001b[0m\u001b[0mloaded_pickle_object\u001b[0m\u001b[0;34m)\u001b[0m\u001b[0;34m\u001b[0m\u001b[0;34m\u001b[0m\u001b[0m\n",
            "\u001b[0;32m/usr/lib/python3.7/urllib/request.py\u001b[0m in \u001b[0;36murlopen\u001b[0;34m(url, data, timeout, cafile, capath, cadefault, context)\u001b[0m\n\u001b[1;32m    220\u001b[0m     \u001b[0;32melse\u001b[0m\u001b[0;34m:\u001b[0m\u001b[0;34m\u001b[0m\u001b[0;34m\u001b[0m\u001b[0m\n\u001b[1;32m    221\u001b[0m         \u001b[0mopener\u001b[0m \u001b[0;34m=\u001b[0m \u001b[0m_opener\u001b[0m\u001b[0;34m\u001b[0m\u001b[0;34m\u001b[0m\u001b[0m\n\u001b[0;32m--> 222\u001b[0;31m     \u001b[0;32mreturn\u001b[0m \u001b[0mopener\u001b[0m\u001b[0;34m.\u001b[0m\u001b[0mopen\u001b[0m\u001b[0;34m(\u001b[0m\u001b[0murl\u001b[0m\u001b[0;34m,\u001b[0m \u001b[0mdata\u001b[0m\u001b[0;34m,\u001b[0m \u001b[0mtimeout\u001b[0m\u001b[0;34m)\u001b[0m\u001b[0;34m\u001b[0m\u001b[0;34m\u001b[0m\u001b[0m\n\u001b[0m\u001b[1;32m    223\u001b[0m \u001b[0;34m\u001b[0m\u001b[0m\n\u001b[1;32m    224\u001b[0m \u001b[0;32mdef\u001b[0m \u001b[0minstall_opener\u001b[0m\u001b[0;34m(\u001b[0m\u001b[0mopener\u001b[0m\u001b[0;34m)\u001b[0m\u001b[0;34m:\u001b[0m\u001b[0;34m\u001b[0m\u001b[0;34m\u001b[0m\u001b[0m\n",
            "\u001b[0;32m/usr/lib/python3.7/urllib/request.py\u001b[0m in \u001b[0;36mopen\u001b[0;34m(self, fullurl, data, timeout)\u001b[0m\n\u001b[1;32m    521\u001b[0m         \u001b[0;32mfor\u001b[0m \u001b[0mprocessor\u001b[0m \u001b[0;32min\u001b[0m \u001b[0mself\u001b[0m\u001b[0;34m.\u001b[0m\u001b[0mprocess_request\u001b[0m\u001b[0;34m.\u001b[0m\u001b[0mget\u001b[0m\u001b[0;34m(\u001b[0m\u001b[0mprotocol\u001b[0m\u001b[0;34m,\u001b[0m \u001b[0;34m[\u001b[0m\u001b[0;34m]\u001b[0m\u001b[0;34m)\u001b[0m\u001b[0;34m:\u001b[0m\u001b[0;34m\u001b[0m\u001b[0;34m\u001b[0m\u001b[0m\n\u001b[1;32m    522\u001b[0m             \u001b[0mmeth\u001b[0m \u001b[0;34m=\u001b[0m \u001b[0mgetattr\u001b[0m\u001b[0;34m(\u001b[0m\u001b[0mprocessor\u001b[0m\u001b[0;34m,\u001b[0m \u001b[0mmeth_name\u001b[0m\u001b[0;34m)\u001b[0m\u001b[0;34m\u001b[0m\u001b[0;34m\u001b[0m\u001b[0m\n\u001b[0;32m--> 523\u001b[0;31m             \u001b[0mreq\u001b[0m \u001b[0;34m=\u001b[0m \u001b[0mmeth\u001b[0m\u001b[0;34m(\u001b[0m\u001b[0mreq\u001b[0m\u001b[0;34m)\u001b[0m\u001b[0;34m\u001b[0m\u001b[0;34m\u001b[0m\u001b[0m\n\u001b[0m\u001b[1;32m    524\u001b[0m \u001b[0;34m\u001b[0m\u001b[0m\n\u001b[1;32m    525\u001b[0m         \u001b[0mresponse\u001b[0m \u001b[0;34m=\u001b[0m \u001b[0mself\u001b[0m\u001b[0;34m.\u001b[0m\u001b[0m_open\u001b[0m\u001b[0;34m(\u001b[0m\u001b[0mreq\u001b[0m\u001b[0;34m,\u001b[0m \u001b[0mdata\u001b[0m\u001b[0;34m)\u001b[0m\u001b[0;34m\u001b[0m\u001b[0;34m\u001b[0m\u001b[0m\n",
            "\u001b[0;32m/usr/lib/python3.7/urllib/request.py\u001b[0m in \u001b[0;36mdo_request_\u001b[0;34m(self, request)\u001b[0m\n\u001b[1;32m   1278\u001b[0m                 \u001b[0mmsg\u001b[0m \u001b[0;34m=\u001b[0m \u001b[0;34m\"POST data should be bytes, an iterable of bytes, \"\u001b[0m\u001b[0;31m \u001b[0m\u001b[0;31m\\\u001b[0m\u001b[0;34m\u001b[0m\u001b[0;34m\u001b[0m\u001b[0m\n\u001b[1;32m   1279\u001b[0m                       \u001b[0;34m\"or a file object. It cannot be of type str.\"\u001b[0m\u001b[0;34m\u001b[0m\u001b[0;34m\u001b[0m\u001b[0m\n\u001b[0;32m-> 1280\u001b[0;31m                 \u001b[0;32mraise\u001b[0m \u001b[0mTypeError\u001b[0m\u001b[0;34m(\u001b[0m\u001b[0mmsg\u001b[0m\u001b[0;34m)\u001b[0m\u001b[0;34m\u001b[0m\u001b[0;34m\u001b[0m\u001b[0m\n\u001b[0m\u001b[1;32m   1281\u001b[0m             \u001b[0;32mif\u001b[0m \u001b[0;32mnot\u001b[0m \u001b[0mrequest\u001b[0m\u001b[0;34m.\u001b[0m\u001b[0mhas_header\u001b[0m\u001b[0;34m(\u001b[0m\u001b[0;34m'Content-type'\u001b[0m\u001b[0;34m)\u001b[0m\u001b[0;34m:\u001b[0m\u001b[0;34m\u001b[0m\u001b[0;34m\u001b[0m\u001b[0m\n\u001b[1;32m   1282\u001b[0m                 request.add_unredirected_header(\n",
            "\u001b[0;31mTypeError\u001b[0m: POST data should be bytes, an iterable of bytes, or a file object. It cannot be of type str."
          ]
        }
      ]
    }
  ]
}